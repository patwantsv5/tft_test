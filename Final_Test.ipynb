{
 "cells": [
  {
   "cell_type": "code",
   "execution_count": 2,
   "id": "7a82acf8",
   "metadata": {},
   "outputs": [
    {
     "name": "stderr",
     "output_type": "stream",
     "text": [
      "c:\\ProgramData\\anaconda3\\envs\\tft_env\\lib\\site-packages\\pytorch_forecasting\\models\\base\\_base_model.py:28: TqdmWarning: IProgress not found. Please update jupyter and ipywidgets. See https://ipywidgets.readthedocs.io/en/stable/user_install.html\n",
      "  from tqdm.autonotebook import tqdm\n"
     ]
    }
   ],
   "source": [
    "import os\n",
    "import pandas as pd\n",
    "import polars as polars\n",
    "from tqdm import tqdm\n",
    "from params import const_en, const_ja\n",
    "import lightning.pytorch as pl\n",
    "from lightning.pytorch.callbacks import EarlyStopping, LearningRateMonitor\n",
    "from lightning.pytorch.loggers import TensorBoardLogger\n",
    "import numpy as np\n",
    "import pandas as pd\n",
    "import torch\n",
    "\n",
    "from pytorch_forecasting import Baseline, TemporalFusionTransformer, TimeSeriesDataSet\n",
    "from pytorch_forecasting.data import GroupNormalizer, NaNLabelEncoder\n",
    "from pytorch_forecasting.metrics import MAE, SMAPE, PoissonLoss, QuantileLoss\n",
    "from pytorch_forecasting.models.temporal_fusion_transformer.tuning import optimize_hyperparameters\n",
    "\n",
    "val_df = polars.read_csv((\"TESTDATA/val_df.csv\"),low_memory=False) #used\n",
    "result_tdf = polars.read_csv((\"TESTDATA/result_tdf.csv\"),low_memory=False) #used\n",
    "train_df = polars.read_csv((\"TESTDATA/train_df.csv\"),low_memory=False) #used\n",
    "Const = const_en"
   ]
  },
  {
   "cell_type": "code",
   "execution_count": 3,
   "id": "1f0a6b04",
   "metadata": {},
   "outputs": [],
   "source": [
    "# Get rid of dupes columns\n",
    "train_df = train_df.drop([col for col in train_df.columns if col.endswith('.1')])\n",
    "val_df = val_df.drop([col for col in val_df.columns if col.endswith('.1')])\n",
    "result_tdf = result_tdf.drop([col for col in result_tdf.columns if col.endswith('.1')])\n",
    "def cast_columns_to_float(df,cols):\n",
    "    for col in cols:\n",
    "        if col in df.columns:\n",
    "            df = df.with_columns(df[col].cast(polars.Float64).alias(col))\n",
    "    return df\n",
    "float_column = [\n",
    "    Const.V_TARGET_OUTPUT, Const.V_BURNER_OUTPUT, Const.FEEDER1,\n",
    "    Const.FEEDER2, Const.FEEDER3, Const.FEEDER4, Const.FEEDER5,\n",
    "    Const.FEEDER6, Const.FEEDER7, Const.FEEDER8, Const.FEEDER9,\n",
    "    Const.FEEDER10, Const.FEEDER11, Const.FEEDER12, Const.FEEDER13,\n",
    "    Const.FEEDER14, Const.FEEDER15, Const.FEEDER16, Const.FEEDER17,\n",
    "    Const.FEEDER18, Const.FEEDER19, Const.FEEDER20, Const.V_SET_TEMP,\n",
    "    Const.V_AGG_TEMP, Const.V_BAG_TEMP\n",
    "]\n",
    "time_varying_unknown_reals = [\n",
    "    Const.V_BAG_TEMP,\n",
    "    Const.HUMIDITY,\n",
    "    Const.TEMPERATURE,\n",
    "    Const.BAG_INLET_TEMP_RISE_RATE,\n",
    "    Const.V_AGG_TEMP,\n",
    "    Const.AGG_TEMP_RISE_RATE\n",
    "    ]\n",
    "static_reals = [] #\"Wetness of material (sand)\"\n",
    "time_varying_known_reals = [\n",
    "    # \"Sin_Hour\",\n",
    "    # \"Cos_Hour\",\n",
    "    # \"Sin_Month\",\n",
    "    # \"Cos_Month\",\n",
    "    Const.TOTAL_SUPPLY,\n",
    "    Const.FEEDER1,\n",
    "    Const.V_SET_TEMP,\n",
    "    Const.FEEDER2,\n",
    "    Const.FEEDER3,\n",
    "    Const.FEEDER4,\n",
    "    Const.FEEDER5,\n",
    "    Const.FEEDER7,\n",
    "    Const.SUPPLY_TIME_ELAPSED,\n",
    "    Const.COLD_AGG_TIME_ELAPSED\n",
    "]\n",
    "train_df = cast_columns_to_float(train_df, float_column)\n",
    "val_df = cast_columns_to_float(val_df,float_column)\n",
    "result_tdf = cast_columns_to_float(result_tdf, float_column)\n",
    "train_df = train_df.to_pandas()\n",
    "val_df = val_df.to_pandas()\n",
    "result_tdf = result_tdf.to_pandas()"
   ]
  },
  {
   "cell_type": "code",
   "execution_count": 4,
   "id": "f67fecd8",
   "metadata": {},
   "outputs": [
    {
     "name": "stdout",
     "output_type": "stream",
     "text": [
      "632136\n"
     ]
    },
    {
     "name": "stderr",
     "output_type": "stream",
     "text": [
      "c:\\ProgramData\\anaconda3\\envs\\tft_env\\lib\\site-packages\\pytorch_forecasting\\data\\timeseries\\_timeseries.py:1847: UserWarning: Min encoder length and/or min_prediction_idx and/or min prediction length and/or lags are too large for 3060 series/groups which therefore are not present in the dataset index. This means no predictions can be made for those series. First 10 removed groups: [{'__group_id__operation_id': '10', '__group_id__subsequence_id': 1}, {'__group_id__operation_id': '10', '__group_id__subsequence_id': 2}, {'__group_id__operation_id': '10', '__group_id__subsequence_id': 3}, {'__group_id__operation_id': '10', '__group_id__subsequence_id': 4}, {'__group_id__operation_id': '10', '__group_id__subsequence_id': 5}, {'__group_id__operation_id': '10', '__group_id__subsequence_id': 6}, {'__group_id__operation_id': '10', '__group_id__subsequence_id': 7}, {'__group_id__operation_id': '10', '__group_id__subsequence_id': 8}, {'__group_id__operation_id': '10', '__group_id__subsequence_id': 9}, {'__group_id__operation_id': '10', '__group_id__subsequence_id': 10}]\n",
      "  warnings.warn(\n",
      "c:\\ProgramData\\anaconda3\\envs\\tft_env\\lib\\site-packages\\pytorch_forecasting\\data\\encoders.py:401: UserWarning: Found 2 unknown classes which were set to NaN\n",
      "  warnings.warn(\n",
      "c:\\ProgramData\\anaconda3\\envs\\tft_env\\lib\\site-packages\\pytorch_forecasting\\data\\timeseries\\_timeseries.py:1847: UserWarning: Min encoder length and/or min_prediction_idx and/or min prediction length and/or lags are too large for 120 series/groups which therefore are not present in the dataset index. This means no predictions can be made for those series. First 10 removed groups: [{'__group_id__operation_id': '1', '__group_id__subsequence_id': 1}, {'__group_id__operation_id': '1', '__group_id__subsequence_id': 2}, {'__group_id__operation_id': '1', '__group_id__subsequence_id': 3}, {'__group_id__operation_id': '1', '__group_id__subsequence_id': 4}, {'__group_id__operation_id': '1', '__group_id__subsequence_id': 5}, {'__group_id__operation_id': '1', '__group_id__subsequence_id': 6}, {'__group_id__operation_id': '1', '__group_id__subsequence_id': 7}, {'__group_id__operation_id': '1', '__group_id__subsequence_id': 8}, {'__group_id__operation_id': '1', '__group_id__subsequence_id': 9}, {'__group_id__operation_id': '1', '__group_id__subsequence_id': 10}]\n",
      "  warnings.warn(\n",
      "c:\\ProgramData\\anaconda3\\envs\\tft_env\\lib\\site-packages\\pytorch_forecasting\\data\\timeseries\\_timeseries.py:1709: UserWarning: If predicting, no randomization should be possible - setting stop_randomization=True\n",
      "  warnings.warn(\n",
      "c:\\ProgramData\\anaconda3\\envs\\tft_env\\lib\\site-packages\\pytorch_forecasting\\data\\encoders.py:401: UserWarning: Found 2 unknown classes which were set to NaN\n",
      "  warnings.warn(\n",
      "c:\\ProgramData\\anaconda3\\envs\\tft_env\\lib\\site-packages\\pytorch_forecasting\\data\\encoders.py:401: UserWarning: Found 47 unknown classes which were set to NaN\n",
      "  warnings.warn(\n",
      "c:\\ProgramData\\anaconda3\\envs\\tft_env\\lib\\site-packages\\pytorch_forecasting\\data\\timeseries\\_timeseries.py:1847: UserWarning: Min encoder length and/or min_prediction_idx and/or min prediction length and/or lags are too large for 2820 series/groups which therefore are not present in the dataset index. This means no predictions can be made for those series. First 10 removed groups: [{'__group_id__operation_id': '1', '__group_id__subsequence_id': 1}, {'__group_id__operation_id': '1', '__group_id__subsequence_id': 2}, {'__group_id__operation_id': '1', '__group_id__subsequence_id': 3}, {'__group_id__operation_id': '1', '__group_id__subsequence_id': 4}, {'__group_id__operation_id': '1', '__group_id__subsequence_id': 5}, {'__group_id__operation_id': '1', '__group_id__subsequence_id': 6}, {'__group_id__operation_id': '1', '__group_id__subsequence_id': 7}, {'__group_id__operation_id': '1', '__group_id__subsequence_id': 8}, {'__group_id__operation_id': '1', '__group_id__subsequence_id': 9}, {'__group_id__operation_id': '1', '__group_id__subsequence_id': 10}]\n",
      "  warnings.warn(\n"
     ]
    }
   ],
   "source": [
    "train_df[\"operation_id\"] = train_df[\"operation_id\"].astype(str)\n",
    "# train_df[\"subsequence_id\"] = train_df[\"subsequence_id\"].astype(str)\n",
    "result_tdf[\"operation_id\"] = result_tdf[\"operation_id\"].astype(str)\n",
    "\n",
    "val_df[\"operation_id\"] = val_df[\"operation_id\"].astype(str)\n",
    "# val_df[\"subsequence_id\"] = val_df[\"subsequence_id\"].astype(str)\n",
    "\n",
    "print(len(result_tdf))\n",
    "max_prediction_length = 60\n",
    "\n",
    "training = TimeSeriesDataSet(\n",
    "    train_df, #[lambda x: x.time_idx <= training_cutoff],\n",
    "    time_idx=\"time_idx\",\n",
    "    target=Const.V_TARGET_OUTPUT,\n",
    "    group_ids=[\"operation_id\", \"subsequence_id\"],\n",
    "    min_encoder_length=1,  # keep encoder length long (as it is in the validation set)\n",
    "    max_encoder_length=300,\n",
    "    min_prediction_length=max_prediction_length, # max_prediction_length ≤ shortest_series_length - max_encoder_length\n",
    "    max_prediction_length=max_prediction_length, # max_encoder_length + max_prediction_length ≤ series_length\n",
    "    static_categoricals=[\"operation_id\"],\n",
    "    static_reals=static_reals,\n",
    "    # time_varying_known_categoricals=[\"DATE\", \"TIME\"],\n",
    "    # variable_groups={\"special_days\": special_days},  # group of categorical variables can be treated as one variable\n",
    "    time_varying_known_reals=list(time_varying_known_reals),\n",
    "    time_varying_unknown_categoricals=[],\n",
    "    time_varying_unknown_reals=list(time_varying_unknown_reals),\n",
    "    target_normalizer=GroupNormalizer(\n",
    "        groups=[\"operation_id\"], transformation=\"softplus\"\n",
    "    ),  # use softplus and normalize by group\n",
    "    add_relative_time_idx=True,\n",
    "    add_target_scales=True,\n",
    "    add_encoder_length=True,\n",
    "    categorical_encoders = {\n",
    "        \"operation_id\": NaNLabelEncoder(add_nan=True),\n",
    "        \"subsequence_id\": NaNLabelEncoder(add_nan=True),\n",
    "    # Include all other categorical columns used\n",
    "    },\n",
    ")\n",
    "\n",
    "# create validation set (predict=True) which means to predict the last max_prediction_length points in time\n",
    "# for each series\n",
    "validation = TimeSeriesDataSet.from_dataset(training, val_df, predict=True, stop_randomization=True)\n",
    "test_dataset = TimeSeriesDataSet.from_dataset(training, result_tdf, predict=True,stop_randomization=False)\n",
    "# validation.shape()\n",
    "\n",
    "# create dataloaders for model\n",
    "batch_size = 128  # set this between 32 to 128\n",
    "train_dataloader = training.to_dataloader(train=True, batch_size=batch_size, num_workers=0)\n",
    "val_dataloader = validation.to_dataloader(train=False, batch_size=batch_size * 10, num_workers=0)\n",
    "test_dataloader = test_dataset.to_dataloader(train=False,batch_size=batch_size,num_workers=0)"
   ]
  },
  {
   "cell_type": "code",
   "execution_count": 5,
   "id": "6c356b0e",
   "metadata": {},
   "outputs": [
    {
     "name": "stderr",
     "output_type": "stream",
     "text": [
      "c:\\ProgramData\\anaconda3\\envs\\tft_env\\lib\\site-packages\\lightning\\pytorch\\utilities\\parsing.py:210: Attribute 'loss' is an instance of `nn.Module` and is already saved during checkpointing. It is recommended to ignore them using `self.save_hyperparameters(ignore=['loss'])`.\n",
      "c:\\ProgramData\\anaconda3\\envs\\tft_env\\lib\\site-packages\\lightning\\pytorch\\utilities\\parsing.py:210: Attribute 'logging_metrics' is an instance of `nn.Module` and is already saved during checkpointing. It is recommended to ignore them using `self.save_hyperparameters(ignore=['logging_metrics'])`.\n",
      "💡 Tip: For seamless cloud uploads and versioning, try installing [litmodels](https://pypi.org/project/litmodels/) to enable LitModelCheckpoint, which syncs automatically with the Lightning model registry.\n",
      "GPU available: False, used: False\n",
      "TPU available: False, using: 0 TPU cores\n",
      "HPU available: False, using: 0 HPUs\n",
      "c:\\ProgramData\\anaconda3\\envs\\tft_env\\lib\\site-packages\\lightning\\pytorch\\trainer\\connectors\\data_connector.py:433: The 'predict_dataloader' does not have many workers which may be a bottleneck. Consider increasing the value of the `num_workers` argument` to `num_workers=21` in the `DataLoader` to improve performance.\n"
     ]
    },
    {
     "data": {
      "text/plain": [
       "tensor(4.8479)"
      ]
     },
     "execution_count": 5,
     "metadata": {},
     "output_type": "execute_result"
    }
   ],
   "source": [
    "# calculate baseline mean absolute error, i.e. predict next value as the last available value from the history\n",
    "baseline_predictions = Baseline().predict(val_dataloader, return_y=True)\n",
    "MAE()(baseline_predictions.output, baseline_predictions.y)"
   ]
  },
  {
   "cell_type": "code",
   "execution_count": 6,
   "id": "60a7fc10",
   "metadata": {},
   "outputs": [
    {
     "name": "stderr",
     "output_type": "stream",
     "text": [
      "Seed set to 42\n",
      "💡 Tip: For seamless cloud uploads and versioning, try installing [litmodels](https://pypi.org/project/litmodels/) to enable LitModelCheckpoint, which syncs automatically with the Lightning model registry.\n",
      "GPU available: False, used: False\n",
      "TPU available: False, using: 0 TPU cores\n",
      "HPU available: False, using: 0 HPUs\n",
      "c:\\ProgramData\\anaconda3\\envs\\tft_env\\lib\\site-packages\\lightning\\pytorch\\utilities\\parsing.py:210: Attribute 'loss' is an instance of `nn.Module` and is already saved during checkpointing. It is recommended to ignore them using `self.save_hyperparameters(ignore=['loss'])`.\n",
      "c:\\ProgramData\\anaconda3\\envs\\tft_env\\lib\\site-packages\\lightning\\pytorch\\utilities\\parsing.py:210: Attribute 'logging_metrics' is an instance of `nn.Module` and is already saved during checkpointing. It is recommended to ignore them using `self.save_hyperparameters(ignore=['logging_metrics'])`.\n"
     ]
    },
    {
     "name": "stdout",
     "output_type": "stream",
     "text": [
      "Number of parameters in network: 17.0k\n"
     ]
    }
   ],
   "source": [
    "# configure network and trainer\n",
    "pl.seed_everything(42)\n",
    "trainer = pl.Trainer(\n",
    "    accelerator=\"cpu\",\n",
    "    # clipping gradients is a hyperparameter and important to prevent divergance\n",
    "    # of the gradient for recurrent neural networks\n",
    "    gradient_clip_val=0.1,\n",
    ")\n",
    "\n",
    "\n",
    "tft = TemporalFusionTransformer.from_dataset(\n",
    "    training,\n",
    "    # not meaningful for finding the learning rate but otherwise very important\n",
    "    learning_rate=0.03,\n",
    "    hidden_size=8,  # most important hyperparameter apart from learning rate\n",
    "    # number of attention heads. Set to up to 4 for large datasets\n",
    "    attention_head_size=1,\n",
    "    dropout=0.1,  # between 0.1 and 0.3 are good values\n",
    "    hidden_continuous_size=8,  # set to <= hidden_size\n",
    "    loss=QuantileLoss(),\n",
    "    optimizer=\"Adam\"\n",
    "    # reduce learning rate if no improvement in validation loss after x epochs\n",
    "    # reduce_on_plateau_patience=1000,\n",
    ")\n",
    "print(f\"Number of parameters in network: {tft.size()/1e3:.1f}k\")"
   ]
  },
  {
   "cell_type": "code",
   "execution_count": 7,
   "id": "1846ceea",
   "metadata": {},
   "outputs": [
    {
     "name": "stderr",
     "output_type": "stream",
     "text": [
      "c:\\ProgramData\\anaconda3\\envs\\tft_env\\lib\\site-packages\\lightning\\pytorch\\loops\\utilities.py:73: `max_epochs` was not set. Setting it to 1000 epochs. To train without an epoch limit, set `max_epochs=-1`.\n",
      "c:\\ProgramData\\anaconda3\\envs\\tft_env\\lib\\site-packages\\lightning\\pytorch\\trainer\\connectors\\data_connector.py:433: The 'train_dataloader' does not have many workers which may be a bottleneck. Consider increasing the value of the `num_workers` argument` to `num_workers=21` in the `DataLoader` to improve performance.\n",
      "c:\\ProgramData\\anaconda3\\envs\\tft_env\\lib\\site-packages\\lightning\\pytorch\\trainer\\connectors\\data_connector.py:433: The 'val_dataloader' does not have many workers which may be a bottleneck. Consider increasing the value of the `num_workers` argument` to `num_workers=21` in the `DataLoader` to improve performance.\n",
      "Finding best initial lr: 100%|██████████| 100/100 [00:56<00:00,  1.68it/s]`Trainer.fit` stopped: `max_steps=100` reached.\n",
      "Finding best initial lr: 100%|██████████| 100/100 [00:57<00:00,  1.75it/s]\n",
      "Learning rate set to 0.00023988329190194915\n",
      "Restoring states from the checkpoint path at c:\\Users\\3562\\Documents\\TFT_TEST\\new_TFT\\.lr_find_f618ef94-7044-4a84-b05b-0003d2f28857.ckpt\n",
      "Restored all states from the checkpoint at c:\\Users\\3562\\Documents\\TFT_TEST\\new_TFT\\.lr_find_f618ef94-7044-4a84-b05b-0003d2f28857.ckpt\n",
      "c:\\ProgramData\\anaconda3\\envs\\tft_env\\lib\\site-packages\\lightning\\pytorch\\trainer\\connectors\\data_connector.py:433: The 'train_dataloader' does not have many workers which may be a bottleneck. Consider increasing the value of the `num_workers` argument` to `num_workers=21` in the `DataLoader` to improve performance.\n"
     ]
    },
    {
     "name": "stdout",
     "output_type": "stream",
     "text": [
      "suggested learning rate: 0.00023988329190194915\n"
     ]
    },
    {
     "data": {
      "image/png": "[encoded data removed]",
      "text/plain": [
       "<Figure size 640x480 with 1 Axes>"
      ]
     },
     "metadata": {},
     "output_type": "display_data"
    },
    {
     "name": "stderr",
     "output_type": "stream",
     "text": [
      "C:\\Users\\3562\\AppData\\Local\\Temp\\ipykernel_41156\\4268711780.py:14: UserWarning: FigureCanvasAgg is non-interactive, and thus cannot be shown\n",
      "  fig.show()\n"
     ]
    }
   ],
   "source": [
    "# find optimal learning rate\n",
    "from lightning.pytorch.tuner import Tuner\n",
    "\n",
    "res = Tuner(trainer).lr_find(\n",
    "    tft,\n",
    "    train_dataloaders=train_dataloader,\n",
    "    val_dataloaders=val_dataloader,\n",
    "    max_lr=10.0,\n",
    "    min_lr=1e-6,\n",
    ")\n",
    "\n",
    "print(f\"suggested learning rate: {res.suggestion()}\")\n",
    "fig = res.plot(show=True, suggest=True)\n",
    "fig.show()"
   ]
  },
  {
   "cell_type": "code",
   "execution_count": 8,
   "id": "a504a358",
   "metadata": {},
   "outputs": [],
   "source": [
    "import tensorflow as tf\n",
    "import tensorboard as tb\n",
    "tf.io.gfile = tb.compat.tensorflow_stub.io.gfile"
   ]
  },
  {
   "cell_type": "code",
   "execution_count": 9,
   "id": "a5749eb0",
   "metadata": {},
   "outputs": [
    {
     "name": "stderr",
     "output_type": "stream",
     "text": [
      "💡 Tip: For seamless cloud uploads and versioning, try installing [litmodels](https://pypi.org/project/litmodels/) to enable LitModelCheckpoint, which syncs automatically with the Lightning model registry.\n",
      "GPU available: False, used: False\n",
      "TPU available: False, using: 0 TPU cores\n",
      "HPU available: False, using: 0 HPUs\n",
      "c:\\ProgramData\\anaconda3\\envs\\tft_env\\lib\\site-packages\\lightning\\pytorch\\utilities\\parsing.py:210: Attribute 'loss' is an instance of `nn.Module` and is already saved during checkpointing. It is recommended to ignore them using `self.save_hyperparameters(ignore=['loss'])`.\n",
      "c:\\ProgramData\\anaconda3\\envs\\tft_env\\lib\\site-packages\\lightning\\pytorch\\utilities\\parsing.py:210: Attribute 'logging_metrics' is an instance of `nn.Module` and is already saved during checkpointing. It is recommended to ignore them using `self.save_hyperparameters(ignore=['logging_metrics'])`.\n"
     ]
    },
    {
     "name": "stdout",
     "output_type": "stream",
     "text": [
      "Number of parameters in network: 36.2k\n"
     ]
    }
   ],
   "source": [
    "# configure network and trainer\n",
    "early_stop_callback = EarlyStopping(monitor=\"val_loss\", min_delta=1e-4, patience=10, verbose=False, mode=\"min\")\n",
    "lr_logger = LearningRateMonitor()  # log the learning rate\n",
    "from lightning.pytorch.loggers import CSVLogger\n",
    "logger = CSVLogger(save_dir=os.getcwd(), name=\"logs_csv\")\n",
    "\n",
    "trainer = pl.Trainer(\n",
    "    max_epochs=10,\n",
    "    accelerator=\"auto\",\n",
    "    enable_model_summary=True,\n",
    "    gradient_clip_val=0.1,\n",
    "    limit_train_batches=50,  # coment in for training, running valiation every 30 batches\n",
    "    # fast_dev_run=True,  # comment in to check that networkor dataset has no serious bugs\n",
    "    callbacks=[lr_logger, early_stop_callback],\n",
    "    logger=logger,\n",
    ")\n",
    "\n",
    "tft = TemporalFusionTransformer.from_dataset(\n",
    "    training,\n",
    "    learning_rate=0.03,\n",
    "    hidden_size=16,\n",
    "    attention_head_size=2,\n",
    "    dropout=0.1,\n",
    "    hidden_continuous_size=8,\n",
    "    loss=QuantileLoss(),\n",
    "    log_interval=10,  # uncomment for learning rate finder and otherwise, e.g. to 10 for logging every 10 batches\n",
    "    optimizer=\"Adam\",\n",
    "    reduce_on_plateau_patience=4,\n",
    ")\n",
    "print(f\"Number of parameters in network: {tft.size()/1e3:.1f}k\")"
   ]
  },
  {
   "cell_type": "code",
   "execution_count": 10,
   "id": "fd9d7062",
   "metadata": {},
   "outputs": [
    {
     "name": "stderr",
     "output_type": "stream",
     "text": [
      "\n",
      "   | Name                               | Type                            | Params | Mode \n",
      "------------------------------------------------------------------------------------------------\n",
      "0  | loss                               | QuantileLoss                    | 0      | train\n",
      "1  | logging_metrics                    | ModuleList                      | 0      | train\n",
      "2  | input_embeddings                   | MultiEmbedding                  | 780    | train\n",
      "3  | prescalers                         | ModuleDict                      | 320    | train\n",
      "4  | static_variable_selection          | VariableSelectionNetwork        | 1.9 K  | train\n",
      "5  | encoder_variable_selection         | VariableSelectionNetwork        | 12.4 K | train\n",
      "6  | decoder_variable_selection         | VariableSelectionNetwork        | 7.4 K  | train\n",
      "7  | static_context_variable_selection  | GatedResidualNetwork            | 1.1 K  | train\n",
      "8  | static_context_initial_hidden_lstm | GatedResidualNetwork            | 1.1 K  | train\n",
      "9  | static_context_initial_cell_lstm   | GatedResidualNetwork            | 1.1 K  | train\n",
      "10 | static_context_enrichment          | GatedResidualNetwork            | 1.1 K  | train\n",
      "11 | lstm_encoder                       | LSTM                            | 2.2 K  | train\n",
      "12 | lstm_decoder                       | LSTM                            | 2.2 K  | train\n",
      "13 | post_lstm_gate_encoder             | GatedLinearUnit                 | 544    | train\n",
      "14 | post_lstm_add_norm_encoder         | AddNorm                         | 32     | train\n",
      "15 | static_enrichment                  | GatedResidualNetwork            | 1.4 K  | train\n",
      "16 | multihead_attn                     | InterpretableMultiHeadAttention | 808    | train\n",
      "17 | post_attn_gate_norm                | GateAddNorm                     | 576    | train\n",
      "18 | pos_wise_ff                        | GatedResidualNetwork            | 1.1 K  | train\n",
      "19 | pre_output_gate_norm               | GateAddNorm                     | 576    | train\n",
      "20 | output_layer                       | Linear                          | 119    | train\n",
      "------------------------------------------------------------------------------------------------\n",
      "36.2 K    Trainable params\n",
      "0         Non-trainable params\n",
      "36.2 K    Total params\n",
      "0.145     Total estimated model params size (MB)\n",
      "616       Modules in train mode\n",
      "0         Modules in eval mode\n"
     ]
    },
    {
     "name": "stdout",
     "output_type": "stream",
     "text": [
      "Sanity Checking DataLoader 0:   0%|          | 0/1 [00:00<?, ?it/s]"
     ]
    },
    {
     "name": "stderr",
     "output_type": "stream",
     "text": [
      "c:\\ProgramData\\anaconda3\\envs\\tft_env\\lib\\site-packages\\lightning\\pytorch\\trainer\\connectors\\data_connector.py:433: The 'val_dataloader' does not have many workers which may be a bottleneck. Consider increasing the value of the `num_workers` argument` to `num_workers=21` in the `DataLoader` to improve performance.\n"
     ]
    },
    {
     "name": "stdout",
     "output_type": "stream",
     "text": [
      "Epoch 9: 100%|██████████| 50/50 [00:37<00:00,  1.34it/s, v_num=15, train_loss_step=0.639, val_loss=5.630, train_loss_epoch=0.565]"
     ]
    },
    {
     "name": "stderr",
     "output_type": "stream",
     "text": [
      "`Trainer.fit` stopped: `max_epochs=10` reached.\n"
     ]
    },
    {
     "name": "stdout",
     "output_type": "stream",
     "text": [
      "Epoch 9: 100%|██████████| 50/50 [00:37<00:00,  1.33it/s, v_num=15, train_loss_step=0.639, val_loss=5.630, train_loss_epoch=0.565]\n"
     ]
    }
   ],
   "source": [
    "trainer.fit(\n",
    "    tft,\n",
    "    train_dataloaders=train_dataloader,\n",
    "    val_dataloaders=val_dataloader,\n",
    ")"
   ]
  },
  {
   "cell_type": "code",
   "execution_count": 11,
   "id": "6fbe2fd5",
   "metadata": {},
   "outputs": [
    {
     "name": "stdout",
     "output_type": "stream",
     "text": [
      "4.5.0\n",
      "0.14.5\n"
     ]
    },
    {
     "name": "stderr",
     "output_type": "stream",
     "text": [
      "[I 2025-09-22 11:10:58,621] A new study created in memory with name: no-name-03b120e9-d703-4bb2-b4c7-4c664042c6de\n",
      "c:\\ProgramData\\anaconda3\\envs\\tft_env\\lib\\site-packages\\pytorch_forecasting\\models\\temporal_fusion_transformer\\tuning.py:142: FutureWarning: suggest_loguniform has been deprecated in v3.0.0. This feature will be removed in v6.0.0. See https://github.com/optuna/optuna/releases/tag/v3.0.0. Use suggest_float(..., log=True) instead.\n",
      "  gradient_clip_val = trial.suggest_loguniform(\n",
      "GPU available: False, used: False\n",
      "TPU available: False, using: 0 TPU cores\n",
      "HPU available: False, using: 0 HPUs\n",
      "c:\\ProgramData\\anaconda3\\envs\\tft_env\\lib\\site-packages\\pytorch_forecasting\\models\\temporal_fusion_transformer\\tuning.py:168: FutureWarning: suggest_uniform has been deprecated in v3.0.0. This feature will be removed in v6.0.0. See https://github.com/optuna/optuna/releases/tag/v3.0.0. Use suggest_float instead.\n",
      "  dropout=trial.suggest_uniform(\"dropout\", *dropout_range),\n",
      "c:\\ProgramData\\anaconda3\\envs\\tft_env\\lib\\site-packages\\lightning\\pytorch\\utilities\\parsing.py:210: Attribute 'loss' is an instance of `nn.Module` and is already saved during checkpointing. It is recommended to ignore them using `self.save_hyperparameters(ignore=['loss'])`.\n",
      "c:\\ProgramData\\anaconda3\\envs\\tft_env\\lib\\site-packages\\lightning\\pytorch\\utilities\\parsing.py:210: Attribute 'logging_metrics' is an instance of `nn.Module` and is already saved during checkpointing. It is recommended to ignore them using `self.save_hyperparameters(ignore=['logging_metrics'])`.\n",
      "c:\\ProgramData\\anaconda3\\envs\\tft_env\\lib\\site-packages\\pytorch_forecasting\\models\\temporal_fusion_transformer\\tuning.py:222: FutureWarning: suggest_loguniform has been deprecated in v3.0.0. This feature will be removed in v6.0.0. See https://github.com/optuna/optuna/releases/tag/v3.0.0. Use suggest_float(..., log=True) instead.\n",
      "  model.hparams.learning_rate = trial.suggest_loguniform(\n",
      "c:\\ProgramData\\anaconda3\\envs\\tft_env\\lib\\site-packages\\lightning\\pytorch\\callbacks\\model_checkpoint.py:701: Checkpoint directory C:\\Users\\3562\\Documents\\TFT_TEST\\new_TFT\\optuna_test\\trial_0 exists and is not empty.\n",
      "c:\\ProgramData\\anaconda3\\envs\\tft_env\\lib\\site-packages\\lightning\\pytorch\\trainer\\connectors\\data_connector.py:433: The 'val_dataloader' does not have many workers which may be a bottleneck. Consider increasing the value of the `num_workers` argument` to `num_workers=21` in the `DataLoader` to improve performance.\n",
      "c:\\ProgramData\\anaconda3\\envs\\tft_env\\lib\\site-packages\\lightning\\pytorch\\trainer\\connectors\\data_connector.py:433: The 'train_dataloader' does not have many workers which may be a bottleneck. Consider increasing the value of the `num_workers` argument` to `num_workers=21` in the `DataLoader` to improve performance.\n",
      "c:\\ProgramData\\anaconda3\\envs\\tft_env\\lib\\site-packages\\lightning\\pytorch\\loops\\fit_loop.py:310: The number of training batches (30) is smaller than the logging interval Trainer(log_every_n_steps=50). Set a lower value for log_every_n_steps if you want to see logs for the training epoch.\n",
      "`Trainer.fit` stopped: `max_epochs=10` reached.\n",
      "[I 2025-09-22 11:14:45,866] Trial 0 finished with value: 5.891108512878418 and parameters: {'gradient_clip_val': 0.037535456680477634, 'hidden_size': 11, 'dropout': 0.1565840544572003, 'hidden_continuous_size': 10, 'attention_head_size': 1, 'learning_rate': 0.03068045283041306}. Best is trial 0 with value: 5.891108512878418.\n",
      "GPU available: False, used: False\n",
      "TPU available: False, using: 0 TPU cores\n",
      "HPU available: False, using: 0 HPUs\n",
      "c:\\ProgramData\\anaconda3\\envs\\tft_env\\lib\\site-packages\\lightning\\pytorch\\callbacks\\model_checkpoint.py:701: Checkpoint directory C:\\Users\\3562\\Documents\\TFT_TEST\\new_TFT\\optuna_test\\trial_1 exists and is not empty.\n",
      "`Trainer.fit` stopped: `max_epochs=10` reached.\n",
      "[I 2025-09-22 11:22:21,562] Trial 1 finished with value: 5.198705196380615 and parameters: {'gradient_clip_val': 0.49385769442084015, 'hidden_size': 56, 'dropout': 0.13810710111472838, 'hidden_continuous_size': 17, 'attention_head_size': 1, 'learning_rate': 0.004134720822793617}. Best is trial 1 with value: 5.198705196380615.\n"
     ]
    },
    {
     "name": "stdout",
     "output_type": "stream",
     "text": [
      "{'gradient_clip_val': 0.49385769442084015, 'hidden_size': 56, 'dropout': 0.13810710111472838, 'hidden_continuous_size': 17, 'attention_head_size': 1, 'learning_rate': 0.004134720822793617}\n"
     ]
    }
   ],
   "source": [
    "import pickle\n",
    "# take ages\n",
    "from pytorch_forecasting.models.temporal_fusion_transformer.tuning import optimize_hyperparameters\n",
    "import optuna\n",
    "import statsmodels\n",
    "print(optuna.__version__)\n",
    "print(statsmodels.__version__)\n",
    "# create study\n",
    "study = optimize_hyperparameters(\n",
    "    train_dataloader,\n",
    "    val_dataloader,\n",
    "    model_path=\"optuna_test\",\n",
    "    n_trials=2,\n",
    "    max_epochs=10,\n",
    "    gradient_clip_val_range=(0.01, 1.0),\n",
    "    hidden_size_range=(8, 128),\n",
    "    hidden_continuous_size_range=(8, 128),\n",
    "    attention_head_size_range=(1, 4),\n",
    "    learning_rate_range=(0.001, 0.1),\n",
    "    dropout_range=(0.1, 0.3),\n",
    "    trainer_kwargs=dict(limit_train_batches=30),\n",
    "    reduce_on_plateau_patience=4,\n",
    "    use_learning_rate_finder=False,  # use Optuna to find ideal learning rate or use in-built learning rate finder\n",
    ")\n",
    "\n",
    "# save study results - also we can resume tuning at a later point in time\n",
    "with open(\"test_study.pkl\", \"wb\") as fout:\n",
    "    pickle.dump(study, fout)\n",
    "\n",
    "# show best hyperparameters\n",
    "print(study.best_trial.params)"
   ]
  },
  {
   "cell_type": "code",
   "execution_count": 12,
   "id": "1b0dd4b4",
   "metadata": {},
   "outputs": [
    {
     "name": "stderr",
     "output_type": "stream",
     "text": [
      "c:\\ProgramData\\anaconda3\\envs\\tft_env\\lib\\site-packages\\lightning\\pytorch\\utilities\\parsing.py:210: Attribute 'loss' is an instance of `nn.Module` and is already saved during checkpointing. It is recommended to ignore them using `self.save_hyperparameters(ignore=['loss'])`.\n",
      "c:\\ProgramData\\anaconda3\\envs\\tft_env\\lib\\site-packages\\lightning\\pytorch\\utilities\\parsing.py:210: Attribute 'logging_metrics' is an instance of `nn.Module` and is already saved during checkpointing. It is recommended to ignore them using `self.save_hyperparameters(ignore=['logging_metrics'])`.\n"
     ]
    }
   ],
   "source": [
    "# load the best model according to the validation loss\n",
    "# (given that we use early stopping, this is not necessarily the last epoch)\n",
    "best_model_path = trainer.checkpoint_callback.best_model_path\n",
    "best_tft = TemporalFusionTransformer.load_from_checkpoint(best_model_path)"
   ]
  },
  {
   "cell_type": "code",
   "execution_count": 13,
   "id": "8d203f49",
   "metadata": {},
   "outputs": [
    {
     "name": "stderr",
     "output_type": "stream",
     "text": [
      "💡 Tip: For seamless cloud uploads and versioning, try installing [litmodels](https://pypi.org/project/litmodels/) to enable LitModelCheckpoint, which syncs automatically with the Lightning model registry.\n",
      "GPU available: False, used: False\n",
      "TPU available: False, using: 0 TPU cores\n",
      "HPU available: False, using: 0 HPUs\n",
      "c:\\ProgramData\\anaconda3\\envs\\tft_env\\lib\\site-packages\\lightning\\pytorch\\trainer\\connectors\\data_connector.py:433: The 'predict_dataloader' does not have many workers which may be a bottleneck. Consider increasing the value of the `num_workers` argument` to `num_workers=21` in the `DataLoader` to improve performance.\n"
     ]
    }
   ],
   "source": [
    "# Predict all at once (no manual looping)\n",
    "predictions = best_tft.predict(data=test_dataloader,return_x=True, return_index=True)\n",
    "# if it's a Prediction object"
   ]
  },
  {
   "cell_type": "code",
   "execution_count": 14,
   "id": "972f0a7d",
   "metadata": {},
   "outputs": [
    {
     "name": "stdout",
     "output_type": "stream",
     "text": [
      "tensor([[2.0105e-08, 3.0446e-08, 3.7243e-08,  ..., 2.4058e+01, 2.4052e+01,\n",
      "         2.4044e+01],\n",
      "        [2.1012e-08, 2.6045e-08, 3.9157e-08,  ..., 2.4052e+01, 2.4044e+01,\n",
      "         2.4035e+01],\n",
      "        [2.3576e-08, 2.6339e-08, 4.0183e-08,  ..., 2.4045e+01, 2.4035e+01,\n",
      "         2.4028e+01],\n",
      "        ...,\n",
      "        [2.6388e+01, 2.6443e+01, 2.6496e+01,  ..., 2.8126e+01, 2.8153e+01,\n",
      "         2.8171e+01],\n",
      "        [2.6441e+01, 2.6497e+01, 2.6559e+01,  ..., 2.8153e+01, 2.8171e+01,\n",
      "         2.8181e+01],\n",
      "        [2.6496e+01, 2.6561e+01, 2.6603e+01,  ..., 2.8171e+01, 2.8181e+01,\n",
      "         2.8201e+01]])\n",
      "4634\n",
      "11\n",
      "4634\n",
      "      time_idx operation_id  subsequence_id\n",
      "0            1           10              61\n",
      "1            2           10              62\n",
      "2            3           10              63\n",
      "3            4           10              64\n",
      "4            5           10              65\n",
      "...        ...          ...             ...\n",
      "4629       118            2             178\n",
      "4630       119            2             179\n",
      "4631       120            2             180\n",
      "4632       121            2             181\n",
      "4633       122            2             182\n",
      "\n",
      "[4634 rows x 3 columns]\n",
      "{'encoder_cat': tensor([[[1.],\n",
      "         [0.],\n",
      "         [0.],\n",
      "         ...,\n",
      "         [nan],\n",
      "         [nan],\n",
      "         [nan]],\n",
      "\n",
      "        [[1.],\n",
      "         [1.],\n",
      "         [0.],\n",
      "         ...,\n",
      "         [nan],\n",
      "         [nan],\n",
      "         [nan]],\n",
      "\n",
      "        [[1.],\n",
      "         [1.],\n",
      "         [1.],\n",
      "         ...,\n",
      "         [nan],\n",
      "         [nan],\n",
      "         [nan]],\n",
      "\n",
      "        ...,\n",
      "\n",
      "        [[0.],\n",
      "         [0.],\n",
      "         [0.],\n",
      "         ...,\n",
      "         [nan],\n",
      "         [nan],\n",
      "         [nan]],\n",
      "\n",
      "        [[0.],\n",
      "         [0.],\n",
      "         [0.],\n",
      "         ...,\n",
      "         [nan],\n",
      "         [nan],\n",
      "         [nan]],\n",
      "\n",
      "        [[0.],\n",
      "         [0.],\n",
      "         [0.],\n",
      "         ...,\n",
      "         [nan],\n",
      "         [nan],\n",
      "         [nan]]]), 'encoder_cont': tensor([[[-0.9933, -0.4709,  0.4876,  ..., -0.3272, -1.0394, -0.5859],\n",
      "         [ 0.0000,  0.0000,  0.0000,  ...,  0.0000,  0.0000,  0.0000],\n",
      "         [ 0.0000,  0.0000,  0.0000,  ...,  0.0000,  0.0000,  0.0000],\n",
      "         ...,\n",
      "         [    nan,     nan,     nan,  ...,     nan,     nan,     nan],\n",
      "         [    nan,     nan,     nan,  ...,     nan,     nan,     nan],\n",
      "         [    nan,     nan,     nan,  ...,     nan,     nan,     nan]],\n",
      "\n",
      "        [[-0.9867, -0.4709,  0.4876,  ..., -0.3272, -1.0394, -0.5859],\n",
      "         [-0.9867, -0.4709,  0.4876,  ..., -0.3272, -1.0394, -0.5859],\n",
      "         [ 0.0000,  0.0000,  0.0000,  ...,  0.0000,  0.0000,  0.0000],\n",
      "         ...,\n",
      "         [    nan,     nan,     nan,  ...,     nan,     nan,     nan],\n",
      "         [    nan,     nan,     nan,  ...,     nan,     nan,     nan],\n",
      "         [    nan,     nan,     nan,  ...,     nan,     nan,     nan]],\n",
      "\n",
      "        [[-0.9800, -0.4709,  0.4876,  ..., -0.3272, -1.0394, -0.5859],\n",
      "         [-0.9800, -0.4709,  0.4876,  ..., -0.3272, -1.0394, -0.5859],\n",
      "         [-0.9800, -0.4709,  0.4876,  ..., -0.3272, -1.0394, -0.5859],\n",
      "         ...,\n",
      "         [    nan,     nan,     nan,  ...,     nan,     nan,     nan],\n",
      "         [    nan,     nan,     nan,  ...,     nan,     nan,     nan],\n",
      "         [    nan,     nan,     nan,  ...,     nan,     nan,     nan]],\n",
      "\n",
      "        ...,\n",
      "\n",
      "        [[-0.2000, -0.6412,  0.8002,  ..., -0.3272, -0.8897, -1.1195],\n",
      "         [-0.2000, -0.6412,  0.8002,  ..., -0.3272, -0.8897, -0.5859],\n",
      "         [-0.2000, -0.6412,  0.8002,  ..., -0.3272, -0.8897, -0.5859],\n",
      "         ...,\n",
      "         [    nan,     nan,     nan,  ...,     nan,     nan,     nan],\n",
      "         [    nan,     nan,     nan,  ...,     nan,     nan,     nan],\n",
      "         [    nan,     nan,     nan,  ...,     nan,     nan,     nan]],\n",
      "\n",
      "        [[-0.1933, -0.6412,  0.8002,  ..., -0.3272, -0.8897, -1.1195],\n",
      "         [-0.1933, -0.6412,  0.8002,  ..., -0.3272, -0.8897, -0.5859],\n",
      "         [-0.1933, -0.6412,  0.8002,  ..., -0.3272, -0.8897, -0.5859],\n",
      "         ...,\n",
      "         [    nan,     nan,     nan,  ...,     nan,     nan,     nan],\n",
      "         [    nan,     nan,     nan,  ...,     nan,     nan,     nan],\n",
      "         [    nan,     nan,     nan,  ...,     nan,     nan,     nan]],\n",
      "\n",
      "        [[-0.1867, -0.6412,  0.8002,  ..., -0.3272, -0.8897, -1.1195],\n",
      "         [-0.1867, -0.6412,  0.8002,  ..., -0.3272, -0.8897, -0.5859],\n",
      "         [-0.1867, -0.6412,  0.8002,  ..., -0.3272, -0.8897, -0.5859],\n",
      "         ...,\n",
      "         [    nan,     nan,     nan,  ...,     nan,     nan,     nan],\n",
      "         [    nan,     nan,     nan,  ...,     nan,     nan,     nan],\n",
      "         [    nan,     nan,     nan,  ...,     nan,     nan,     nan]]]), 'encoder_target': tensor([[0., 0., 0.,  ..., nan, nan, nan],\n",
      "        [0., 0., 0.,  ..., nan, nan, nan],\n",
      "        [0., 0., 0.,  ..., nan, nan, nan],\n",
      "        ...,\n",
      "        [0., 0., 0.,  ..., nan, nan, nan],\n",
      "        [0., 0., 0.,  ..., nan, nan, nan],\n",
      "        [0., 0., 0.,  ..., nan, nan, nan]]), 'encoder_lengths': tensor([  1,   2,   3,  ..., 120, 121, 122]), 'decoder_cat': tensor([[[1],\n",
      "         [1],\n",
      "         [1],\n",
      "         ...,\n",
      "         [1],\n",
      "         [1],\n",
      "         [1]],\n",
      "\n",
      "        [[1],\n",
      "         [1],\n",
      "         [1],\n",
      "         ...,\n",
      "         [1],\n",
      "         [1],\n",
      "         [1]],\n",
      "\n",
      "        [[1],\n",
      "         [1],\n",
      "         [1],\n",
      "         ...,\n",
      "         [1],\n",
      "         [1],\n",
      "         [1]],\n",
      "\n",
      "        ...,\n",
      "\n",
      "        [[0],\n",
      "         [0],\n",
      "         [0],\n",
      "         ...,\n",
      "         [0],\n",
      "         [0],\n",
      "         [0]],\n",
      "\n",
      "        [[0],\n",
      "         [0],\n",
      "         [0],\n",
      "         ...,\n",
      "         [0],\n",
      "         [0],\n",
      "         [0]],\n",
      "\n",
      "        [[0],\n",
      "         [0],\n",
      "         [0],\n",
      "         ...,\n",
      "         [0],\n",
      "         [0],\n",
      "         [0]]]), 'decoder_cont': tensor([[[-0.9933, -0.4709,  0.4876,  ..., -0.3272, -1.0394, -0.5859],\n",
      "         [-0.9933, -0.4709,  0.4876,  ..., -0.3272, -1.0394, -0.5859],\n",
      "         [-0.9933, -0.4709,  0.4876,  ..., -0.3272, -1.0394, -0.5859],\n",
      "         ...,\n",
      "         [-0.9933, -0.4709,  0.4876,  ..., -0.7415, -0.3954,  1.5486],\n",
      "         [-0.9933, -0.4709,  0.4876,  ..., -0.7415, -0.3355,  1.5486],\n",
      "         [-0.9933, -0.4709,  0.4876,  ..., -0.7415, -0.2906,  1.0150]],\n",
      "\n",
      "        [[-0.9867, -0.4709,  0.4876,  ..., -0.3272, -1.0394, -0.5859],\n",
      "         [-0.9867, -0.4709,  0.4876,  ..., -0.3272, -1.0394, -0.5859],\n",
      "         [-0.9867, -0.4709,  0.4876,  ..., -0.3272, -1.0394, -0.5859],\n",
      "         ...,\n",
      "         [-0.9867, -0.4709,  0.4876,  ..., -0.7415, -0.3355,  1.5486],\n",
      "         [-0.9867, -0.4709,  0.4876,  ..., -0.7415, -0.2906,  1.0150],\n",
      "         [-0.9867, -0.4709,  0.4876,  ..., -0.7415, -0.2157,  2.0822]],\n",
      "\n",
      "        [[-0.9800, -0.4709,  0.4876,  ..., -0.3272, -1.0394, -0.5859],\n",
      "         [-0.9800, -0.4709,  0.4876,  ..., -0.3272, -1.0394, -0.5859],\n",
      "         [-0.9800, -0.4709,  0.4876,  ..., -0.3272, -1.0394, -0.5859],\n",
      "         ...,\n",
      "         [-0.9800, -0.4709,  0.4876,  ..., -0.7415, -0.2906,  1.0150],\n",
      "         [-0.9800, -0.4709,  0.4876,  ..., -0.7415, -0.2157,  2.0822],\n",
      "         [-0.9800, -0.4709,  0.4876,  ..., -0.7415, -0.1558,  1.5486]],\n",
      "\n",
      "        ...,\n",
      "\n",
      "        [[-0.2000, -0.6412,  0.8002,  ..., -0.3272,  1.7163, -0.5859],\n",
      "         [-0.2000, -0.6412,  0.8002,  ..., -0.7415,  1.7013, -1.1195],\n",
      "         [-0.2000, -0.6412,  0.8002,  ..., -0.3272,  1.7013, -0.5859],\n",
      "         ...,\n",
      "         [-0.2000, -0.6412,  0.8002,  ..., -0.3272,  1.5216, -0.5859],\n",
      "         [-0.2000, -0.6412,  0.8002,  ..., -0.3272,  1.5216, -0.5859],\n",
      "         [-0.2000, -0.6412,  0.8002,  ..., -0.7415,  1.5066, -1.1195]],\n",
      "\n",
      "        [[-0.1933, -0.6412,  0.8002,  ..., -0.7415,  1.7013, -1.1195],\n",
      "         [-0.1933, -0.6412,  0.8002,  ..., -0.3272,  1.7013, -0.5859],\n",
      "         [-0.1933, -0.6412,  0.8002,  ..., -0.3272,  1.6863, -1.1195],\n",
      "         ...,\n",
      "         [-0.1933, -0.6412,  0.8002,  ..., -0.3272,  1.5216, -0.5859],\n",
      "         [-0.1933, -0.6412,  0.8002,  ..., -0.7415,  1.5066, -1.1195],\n",
      "         [-0.1933, -0.6412,  0.8002,  ..., -0.3272,  1.5066, -0.5859]],\n",
      "\n",
      "        [[-0.1867, -0.6412,  0.8002,  ..., -0.3272,  1.7013, -0.5859],\n",
      "         [-0.1867, -0.6412,  0.8002,  ..., -0.3272,  1.6863, -1.1195],\n",
      "         [-0.1867, -0.6412,  0.8002,  ..., -0.3272,  1.6713, -1.1195],\n",
      "         ...,\n",
      "         [-0.1867, -0.6412,  0.8002,  ..., -0.7415,  1.5066, -1.1195],\n",
      "         [-0.1867, -0.6412,  0.8002,  ..., -0.3272,  1.5066, -0.5859],\n",
      "         [-0.1867, -0.6412,  0.8002,  ..., -0.3272,  1.5066, -0.5859]]]), 'decoder_target': tensor([[ 0.,  0.,  0.,  ..., 32., 32., 32.],\n",
      "        [ 0.,  0.,  0.,  ..., 32., 32., 32.],\n",
      "        [ 0.,  0.,  0.,  ..., 32., 32., 32.],\n",
      "        ...,\n",
      "        [20., 20., 20.,  ..., 22., 22., 22.],\n",
      "        [20., 20., 20.,  ..., 22., 22., 22.],\n",
      "        [20., 20., 20.,  ..., 22., 22., 22.]]), 'decoder_lengths': tensor([60, 60, 60,  ..., 60, 60, 60]), 'decoder_time_idx': tensor([[  1,   2,   3,  ...,  58,  59,  60],\n",
      "        [  2,   3,   4,  ...,  59,  60,  61],\n",
      "        [  3,   4,   5,  ...,  60,  61,  62],\n",
      "        ...,\n",
      "        [120, 121, 122,  ..., 177, 178, 179],\n",
      "        [121, 122, 123,  ..., 178, 179, 180],\n",
      "        [122, 123, 124,  ..., 179, 180, 181]]), 'groups': tensor([[  0,  60],\n",
      "        [  0,  61],\n",
      "        [  0,  62],\n",
      "        ...,\n",
      "        [ 52, 179],\n",
      "        [ 52, 180],\n",
      "        [ 52, 181]]), 'target_scale': tensor([[ 7.9368, 29.6774],\n",
      "        [ 7.9368, 29.6774],\n",
      "        [ 7.9368, 29.6774],\n",
      "        ...,\n",
      "        [ 7.9368, 29.6774],\n",
      "        [ 7.9368, 29.6774],\n",
      "        [ 7.9368, 29.6774]])}\n"
     ]
    }
   ],
   "source": [
    "print(predictions.output)\n",
    "pred = predictions.output\n",
    "x_data = predictions.x\n",
    "index = predictions.index\n",
    "# y_true = predictions.y\n",
    "\n",
    "# Extract actuals directly from dataloader\n",
    "actuals_list = []\n",
    "for _, y in test_dataloader:\n",
    "    actuals_list.append(y[0])  # y[0] is your target\n",
    "actuals = torch.cat(actuals_list).cpu()\n",
    "\n",
    "\n",
    "print(len(pred))\n",
    "print(len(x_data))\n",
    "print(len(index))\n",
    "print(index)\n",
    "print(x_data)\n",
    "\n",
    "# Put into DataFrame\n",
    "duck = polars.DataFrame({\n",
    "    \"actuals\": actuals.numpy(),\n",
    "    \"predictions\": pred.numpy()\n",
    "    # \"index\" : index.to_numpy().flatten()\n",
    "})\n",
    "index = polars.from_pandas(index)\n",
    "for col in index.columns:\n",
    "    duck = duck.with_columns(index[col].alias(col))\n",
    "\n",
    "# CAST INTEGER\n",
    "duck = duck.with_columns(\n",
    "    polars.col(\"operation_id\").cast(polars.Int64),\n",
    "    polars.col(\"subsequence_id\").cast(polars.Int64),\n",
    "    polars.col(\"time_idx\").cast(polars.Int64)\n",
    ")\n",
    "\n",
    "fox = duck.sort(\"operation_id\")\n",
    "fox = fox.to_pandas()\n",
    "fox.to_csv(\"Fox.csv\")\n",
    "duck = duck.to_pandas()\n",
    "\n",
    "\n",
    "duck.to_csv(\"Bduck.csv\")\n"
   ]
  },
  {
   "cell_type": "code",
   "execution_count": 15,
   "id": "2aefbc42",
   "metadata": {},
   "outputs": [],
   "source": [
    "fox[\"time_idx_array\"] = fox[\"time_idx\"].apply(lambda t: np.arange(t, t + 60))\n",
    "fox.to_csv(\"test_fox.csv\")"
   ]
  },
  {
   "cell_type": "code",
   "execution_count": 50,
   "id": "0624c91d",
   "metadata": {},
   "outputs": [
    {
     "data": {
      "image/png": "[encoded data removed]",
      "text/plain": [
       "<Figure size 1400x600 with 1 Axes>"
      ]
     },
     "metadata": {},
     "output_type": "display_data"
    }
   ],
   "source": [
    "import matplotlib.pyplot as plt\n",
    "import ast\n",
    "import re\n",
    "df_first_op = fox[fox['operation_id'] == 1]\n",
    "\n",
    "import numpy as np\n",
    "import re\n",
    "\n",
    "\n",
    "\n",
    "# act_flatten=[]\n",
    "# pred_flatten=[]\n",
    "# time_flatten=[]\n",
    "# # Fully flatten all rows into single arrays\n",
    "# act_flatten = np.hstack(df_first_op['actuals'].values)\n",
    "# pred_flatten = np.hstack(df_first_op['predictions'].values)\n",
    "# time_flatten = np.hstack(df_first_op['time_idx_array'].values)\n",
    "# Flatten each array in the 'actuals' column individually\n",
    "# act_flatten = df_first_op['actuals'].apply(lambda arr: arr.flatten())\n",
    "# pred_flatten = df_first_op['predictions'].apply(lambda arr: arr.flatten())\n",
    "# time_flatten = df_first_op['time_idx_array'].apply(lambda arr: arr.flatten())\n",
    "\n",
    "# print(act_flatten)\n",
    "\n",
    "\n",
    "# test = polars.DataFrame({\n",
    "#     \"actuals\": act_flatten,\n",
    "#     \"predictions\": pred_flatten,\n",
    "#     \"index\" : time_flatten\n",
    "# })\n",
    "# test = test.to_pandas()\n",
    "# test.to_csv(\"testy.csv\")\n",
    "plt.figure(figsize=(14,6))\n",
    "# Loop over each row / subsequence and plot as a separate line\n",
    "for i, row in df_first_op.iterrows():\n",
    "    plt.plot(row['time_idx_array'], row['actuals'], color='blue', alpha=0.3)   # actuals\n",
    "    plt.plot(row['time_idx_array'], row['predictions'], color='orange', alpha=0.3)  # predictions\n",
    "\n",
    "plt.title(\"Actual vs Predicted per subsequence\")\n",
    "plt.xlabel(\"Time Index\")\n",
    "plt.ylabel(\"Target Value\")\n",
    "plt.show()"
   ]
  },
  {
   "cell_type": "code",
   "execution_count": 60,
   "id": "ff7db243",
   "metadata": {},
   "outputs": [
    {
     "name": "stderr",
     "output_type": "stream",
     "text": [
      "MovieWriter ffmpeg unavailable; using Pillow instead.\n"
     ]
    },
    {
     "ename": "ValueError",
     "evalue": "unknown file extension: .mp4",
     "output_type": "error",
     "traceback": [
      "\u001b[1;31m---------------------------------------------------------------------------\u001b[0m",
      "\u001b[1;31mKeyError\u001b[0m                                  Traceback (most recent call last)",
      "File \u001b[1;32mc:\\ProgramData\\anaconda3\\envs\\tft_env\\lib\\site-packages\\PIL\\Image.py:2543\u001b[0m, in \u001b[0;36mImage.save\u001b[1;34m(self, fp, format, **params)\u001b[0m\n\u001b[0;32m   2542\u001b[0m \u001b[38;5;28;01mtry\u001b[39;00m:\n\u001b[1;32m-> 2543\u001b[0m     \u001b[38;5;28mformat\u001b[39m \u001b[38;5;241m=\u001b[39m \u001b[43mEXTENSION\u001b[49m\u001b[43m[\u001b[49m\u001b[43mext\u001b[49m\u001b[43m]\u001b[49m\n\u001b[0;32m   2544\u001b[0m \u001b[38;5;28;01mexcept\u001b[39;00m \u001b[38;5;167;01mKeyError\u001b[39;00m \u001b[38;5;28;01mas\u001b[39;00m e:\n",
      "\u001b[1;31mKeyError\u001b[0m: '.mp4'",
      "\nThe above exception was the direct cause of the following exception:\n",
      "\u001b[1;31mValueError\u001b[0m                                Traceback (most recent call last)",
      "Cell \u001b[1;32mIn[60], line 35\u001b[0m\n\u001b[0;32m     29\u001b[0m     \u001b[38;5;28;01mreturn\u001b[39;00m line,\n\u001b[0;32m     31\u001b[0m anim \u001b[38;5;241m=\u001b[39m FuncAnimation(fig, animate, init_func \u001b[38;5;241m=\u001b[39m init,\n\u001b[0;32m     32\u001b[0m                      frames \u001b[38;5;241m=\u001b[39m \u001b[38;5;241m200\u001b[39m, interval \u001b[38;5;241m=\u001b[39m \u001b[38;5;241m20\u001b[39m, blit \u001b[38;5;241m=\u001b[39m \u001b[38;5;28;01mTrue\u001b[39;00m)\n\u001b[1;32m---> 35\u001b[0m \u001b[43manim\u001b[49m\u001b[38;5;241;43m.\u001b[39;49m\u001b[43msave\u001b[49m\u001b[43m(\u001b[49m\u001b[38;5;124;43m'\u001b[39;49m\u001b[38;5;124;43mcontinuousSineWave.mp4\u001b[39;49m\u001b[38;5;124;43m'\u001b[39;49m\u001b[43m,\u001b[49m\u001b[43m \u001b[49m\n\u001b[0;32m     36\u001b[0m \u001b[43m          \u001b[49m\u001b[43mwriter\u001b[49m\u001b[43m \u001b[49m\u001b[38;5;241;43m=\u001b[39;49m\u001b[43m \u001b[49m\u001b[38;5;124;43m'\u001b[39;49m\u001b[38;5;124;43mffmpeg\u001b[39;49m\u001b[38;5;124;43m'\u001b[39;49m\u001b[43m,\u001b[49m\u001b[43m \u001b[49m\u001b[43mfps\u001b[49m\u001b[43m \u001b[49m\u001b[38;5;241;43m=\u001b[39;49m\u001b[43m \u001b[49m\u001b[38;5;241;43m30\u001b[39;49m\u001b[43m)\u001b[49m\n",
      "File \u001b[1;32mc:\\ProgramData\\anaconda3\\envs\\tft_env\\lib\\site-packages\\matplotlib\\animation.py:1098\u001b[0m, in \u001b[0;36mAnimation.save\u001b[1;34m(self, filename, writer, fps, dpi, codec, bitrate, extra_args, metadata, extra_anim, savefig_kwargs, progress_callback)\u001b[0m\n\u001b[0;32m   1093\u001b[0m     \u001b[38;5;28;01mreturn\u001b[39;00m a \u001b[38;5;241m*\u001b[39m np\u001b[38;5;241m.\u001b[39marray([r, g, b]) \u001b[38;5;241m+\u001b[39m \u001b[38;5;241m1\u001b[39m \u001b[38;5;241m-\u001b[39m a\n\u001b[0;32m   1095\u001b[0m \u001b[38;5;66;03m# canvas._is_saving = True makes the draw_event animation-starting\u001b[39;00m\n\u001b[0;32m   1096\u001b[0m \u001b[38;5;66;03m# callback a no-op; canvas.manager = None prevents resizing the GUI\u001b[39;00m\n\u001b[0;32m   1097\u001b[0m \u001b[38;5;66;03m# widget (both are likewise done in savefig()).\u001b[39;00m\n\u001b[1;32m-> 1098\u001b[0m \u001b[38;5;28;01mwith\u001b[39;00m (writer\u001b[38;5;241m.\u001b[39msaving(\u001b[38;5;28mself\u001b[39m\u001b[38;5;241m.\u001b[39m_fig, filename, dpi),\n\u001b[0;32m   1099\u001b[0m       cbook\u001b[38;5;241m.\u001b[39m_setattr_cm(\u001b[38;5;28mself\u001b[39m\u001b[38;5;241m.\u001b[39m_fig\u001b[38;5;241m.\u001b[39mcanvas, _is_saving\u001b[38;5;241m=\u001b[39m\u001b[38;5;28;01mTrue\u001b[39;00m, manager\u001b[38;5;241m=\u001b[39m\u001b[38;5;28;01mNone\u001b[39;00m)):\n\u001b[0;32m   1100\u001b[0m     \u001b[38;5;28;01mif\u001b[39;00m \u001b[38;5;129;01mnot\u001b[39;00m writer\u001b[38;5;241m.\u001b[39m_supports_transparency():\n\u001b[0;32m   1101\u001b[0m         facecolor \u001b[38;5;241m=\u001b[39m savefig_kwargs\u001b[38;5;241m.\u001b[39mget(\u001b[38;5;124m'\u001b[39m\u001b[38;5;124mfacecolor\u001b[39m\u001b[38;5;124m'\u001b[39m,\n\u001b[0;32m   1102\u001b[0m                                        mpl\u001b[38;5;241m.\u001b[39mrcParams[\u001b[38;5;124m'\u001b[39m\u001b[38;5;124msavefig.facecolor\u001b[39m\u001b[38;5;124m'\u001b[39m])\n",
      "File \u001b[1;32mc:\\ProgramData\\anaconda3\\envs\\tft_env\\lib\\contextlib.py:142\u001b[0m, in \u001b[0;36m_GeneratorContextManager.__exit__\u001b[1;34m(self, typ, value, traceback)\u001b[0m\n\u001b[0;32m    140\u001b[0m \u001b[38;5;28;01mif\u001b[39;00m typ \u001b[38;5;129;01mis\u001b[39;00m \u001b[38;5;28;01mNone\u001b[39;00m:\n\u001b[0;32m    141\u001b[0m     \u001b[38;5;28;01mtry\u001b[39;00m:\n\u001b[1;32m--> 142\u001b[0m         \u001b[38;5;28;43mnext\u001b[39;49m\u001b[43m(\u001b[49m\u001b[38;5;28;43mself\u001b[39;49m\u001b[38;5;241;43m.\u001b[39;49m\u001b[43mgen\u001b[49m\u001b[43m)\u001b[49m\n\u001b[0;32m    143\u001b[0m     \u001b[38;5;28;01mexcept\u001b[39;00m \u001b[38;5;167;01mStopIteration\u001b[39;00m:\n\u001b[0;32m    144\u001b[0m         \u001b[38;5;28;01mreturn\u001b[39;00m \u001b[38;5;28;01mFalse\u001b[39;00m\n",
      "File \u001b[1;32mc:\\ProgramData\\anaconda3\\envs\\tft_env\\lib\\site-packages\\matplotlib\\animation.py:226\u001b[0m, in \u001b[0;36mAbstractMovieWriter.saving\u001b[1;34m(self, fig, outfile, dpi, *args, **kwargs)\u001b[0m\n\u001b[0;32m    224\u001b[0m     \u001b[38;5;28;01myield\u001b[39;00m \u001b[38;5;28mself\u001b[39m\n\u001b[0;32m    225\u001b[0m \u001b[38;5;28;01mfinally\u001b[39;00m:\n\u001b[1;32m--> 226\u001b[0m     \u001b[38;5;28;43mself\u001b[39;49m\u001b[38;5;241;43m.\u001b[39;49m\u001b[43mfinish\u001b[49m\u001b[43m(\u001b[49m\u001b[43m)\u001b[49m\n",
      "File \u001b[1;32mc:\\ProgramData\\anaconda3\\envs\\tft_env\\lib\\site-packages\\matplotlib\\animation.py:506\u001b[0m, in \u001b[0;36mPillowWriter.finish\u001b[1;34m(self)\u001b[0m\n\u001b[0;32m    505\u001b[0m \u001b[38;5;28;01mdef\u001b[39;00m\u001b[38;5;250m \u001b[39m\u001b[38;5;21mfinish\u001b[39m(\u001b[38;5;28mself\u001b[39m):\n\u001b[1;32m--> 506\u001b[0m     \u001b[38;5;28;43mself\u001b[39;49m\u001b[38;5;241;43m.\u001b[39;49m\u001b[43m_frames\u001b[49m\u001b[43m[\u001b[49m\u001b[38;5;241;43m0\u001b[39;49m\u001b[43m]\u001b[49m\u001b[38;5;241;43m.\u001b[39;49m\u001b[43msave\u001b[49m\u001b[43m(\u001b[49m\n\u001b[0;32m    507\u001b[0m \u001b[43m        \u001b[49m\u001b[38;5;28;43mself\u001b[39;49m\u001b[38;5;241;43m.\u001b[39;49m\u001b[43moutfile\u001b[49m\u001b[43m,\u001b[49m\u001b[43m \u001b[49m\u001b[43msave_all\u001b[49m\u001b[38;5;241;43m=\u001b[39;49m\u001b[38;5;28;43;01mTrue\u001b[39;49;00m\u001b[43m,\u001b[49m\u001b[43m \u001b[49m\u001b[43mappend_images\u001b[49m\u001b[38;5;241;43m=\u001b[39;49m\u001b[38;5;28;43mself\u001b[39;49m\u001b[38;5;241;43m.\u001b[39;49m\u001b[43m_frames\u001b[49m\u001b[43m[\u001b[49m\u001b[38;5;241;43m1\u001b[39;49m\u001b[43m:\u001b[49m\u001b[43m]\u001b[49m\u001b[43m,\u001b[49m\n\u001b[0;32m    508\u001b[0m \u001b[43m        \u001b[49m\u001b[43mduration\u001b[49m\u001b[38;5;241;43m=\u001b[39;49m\u001b[38;5;28;43mint\u001b[39;49m\u001b[43m(\u001b[49m\u001b[38;5;241;43m1000\u001b[39;49m\u001b[43m \u001b[49m\u001b[38;5;241;43m/\u001b[39;49m\u001b[43m \u001b[49m\u001b[38;5;28;43mself\u001b[39;49m\u001b[38;5;241;43m.\u001b[39;49m\u001b[43mfps\u001b[49m\u001b[43m)\u001b[49m\u001b[43m,\u001b[49m\u001b[43m \u001b[49m\u001b[43mloop\u001b[49m\u001b[38;5;241;43m=\u001b[39;49m\u001b[38;5;241;43m0\u001b[39;49m\u001b[43m)\u001b[49m\n",
      "File \u001b[1;32mc:\\ProgramData\\anaconda3\\envs\\tft_env\\lib\\site-packages\\PIL\\Image.py:2546\u001b[0m, in \u001b[0;36mImage.save\u001b[1;34m(self, fp, format, **params)\u001b[0m\n\u001b[0;32m   2544\u001b[0m     \u001b[38;5;28;01mexcept\u001b[39;00m \u001b[38;5;167;01mKeyError\u001b[39;00m \u001b[38;5;28;01mas\u001b[39;00m e:\n\u001b[0;32m   2545\u001b[0m         msg \u001b[38;5;241m=\u001b[39m \u001b[38;5;124mf\u001b[39m\u001b[38;5;124m\"\u001b[39m\u001b[38;5;124munknown file extension: \u001b[39m\u001b[38;5;132;01m{\u001b[39;00mext\u001b[38;5;132;01m}\u001b[39;00m\u001b[38;5;124m\"\u001b[39m\n\u001b[1;32m-> 2546\u001b[0m         \u001b[38;5;28;01mraise\u001b[39;00m \u001b[38;5;167;01mValueError\u001b[39;00m(msg) \u001b[38;5;28;01mfrom\u001b[39;00m\u001b[38;5;250m \u001b[39m\u001b[38;5;21;01me\u001b[39;00m\n\u001b[0;32m   2548\u001b[0m \u001b[38;5;28;01mfrom\u001b[39;00m\u001b[38;5;250m \u001b[39m\u001b[38;5;21;01m.\u001b[39;00m\u001b[38;5;250m \u001b[39m\u001b[38;5;28;01mimport\u001b[39;00m ImageFile\n\u001b[0;32m   2550\u001b[0m \u001b[38;5;66;03m# may mutate self!\u001b[39;00m\n",
      "\u001b[1;31mValueError\u001b[0m: unknown file extension: .mp4"
     ]
    },
    {
     "data": {
      "image/png": "[encoded data removed]",
      "text/plain": [
       "<Figure size 640x480 with 1 Axes>"
      ]
     },
     "metadata": {},
     "output_type": "display_data"
    }
   ],
   "source": [
    "from matplotlib import pyplot as plt\n",
    "import numpy as np\n",
    "from matplotlib.animation import FuncAnimation \n",
    " \n",
    "# initializing a figure in \n",
    "# which the graph will be plotted\n",
    "fig = plt.figure() \n",
    " \n",
    "# marking the x-axis and y-axis\n",
    "axis = plt.axes(xlim =(0, 4), \n",
    "                ylim =(-2, 2)) \n",
    "\n",
    "# initializing a line variable\n",
    "line, = axis.plot([], [], lw = 3) \n",
    " \n",
    "# data which the line will \n",
    "# contain (x, y)\n",
    "def init(): \n",
    "    line.set_data([], [])\n",
    "    return line,\n",
    " \n",
    "def animate(i):\n",
    "    x = np.linspace(0, 4, 1000)\n",
    " \n",
    "    # plots a sine graph\n",
    "    y = np.sin(2 * np.pi * (x - 0.01 * i))\n",
    "    line.set_data(x, y)\n",
    "    \n",
    "    return line,\n",
    " \n",
    "anim = FuncAnimation(fig, animate, init_func = init,\n",
    "                     frames = 200, interval = 20, blit = True)\n",
    "\n",
    " \n",
    "anim.save('continuousSineWave.mp4', \n",
    "          writer = 'ffmpeg', fps = 30)"
   ]
  },
  {
   "cell_type": "code",
   "execution_count": null,
   "id": "31cfbde0",
   "metadata": {},
   "outputs": [
    {
     "name": "stdout",
     "output_type": "stream",
     "text": [
      "tensor([32., 32., 32., 32., 32., 32., 32., 32., 32., 32., 32., 32., 32., 32.,\n",
      "        32., 32., 32., 32., 32., 32., 32., 32., 32., 32., 32., 32., 32., 32.,\n",
      "        32., 32., 32., 32., 32., 32., 32., 32., 32., 32., 32., 32., 32., 32.,\n",
      "        32., 32., 32., 32., 32., 32., 32., 32., 32., 32., 32., 32., 32., 32.,\n",
      "        32., 32., 32., 32.])\n",
      "4634\n",
      "Replaced arrays with last timestep safely\n"
     ]
    }
   ],
   "source": [
    "# LAST PREDICTION ONLY .\n",
    "\n",
    "# print(actuals[83])\n",
    "# print(len(actuals))\n",
    "# actuals_last = []\n",
    "# predictions_last = []\n",
    "# # Get t step = 5\n",
    "\n",
    "# fox['actuals'] = fox['actuals'].apply(\n",
    "#     lambda x: x[max_prediction_length-1] if isinstance(x, (list, tuple, np.ndarray)) else x\n",
    "# )\n",
    "\n",
    "# fox['predictions'] = fox['predictions'].apply(\n",
    "#     lambda x: x[max_prediction_length-1] if isinstance(x, (list, tuple, np.ndarray)) else x\n",
    "# )\n",
    "\n",
    "# fox.to_csv(\"Updated_Fox.csv\", index=False)\n",
    "# print(\"Replaced arrays with last timestep safely\")\n",
    "\n"
   ]
  },
  {
   "cell_type": "code",
   "execution_count": null,
   "id": "ae99d097",
   "metadata": {},
   "outputs": [],
   "source": [
    "# ROLLING FORECAST\n",
    "\n",
    "# convert \"string arrays\" → real np.float32 arrays\n",
    "df[\"actuals\"] = df[\"actuals\"].apply(lambda x: np.fromstring(x.strip(\"[]\"), sep=\" \"))\n",
    "df[\"predictions\"] = df[\"predictions\"].apply(lambda x: np.fromstring(x.strip(\"[]\"), sep=\" \"))\n",
    "\n",
    "# sanity check\n",
    "print(type(df[\"actuals\"].iloc[0]), df[\"actuals\"].iloc[0].shape)\n",
    "print(df[\"actuals\"].iloc[0][:10])  # first 10 values"
   ]
  },
  {
   "cell_type": "code",
   "execution_count": null,
   "id": "f85ab5e6",
   "metadata": {},
   "outputs": [],
   "source": [
    "# MAE over the prediction horizon\n",
    "y_true = np.stack(df[\"actuals\"].values)       # shape (n_windows, 60)\n",
    "y_pred = np.stack(df[\"predictions\"].values)   # shape (n_windows, 60)\n",
    "# print(y_pred)\n",
    "mae_per_horizon = np.mean(np.abs(y_true - y_pred), axis=0)\n",
    "\n",
    "plt.figure(figsize=(10,5))\n",
    "plt.plot(range(1, 61), mae_per_horizon, marker=\"o\")\n",
    "plt.xlabel(\"Forecast horizon (steps ahead)\")\n",
    "plt.ylabel(\"MAE\")\n",
    "plt.title(\"Forecast error vs horizon\")\n",
    "plt.show()\n"
   ]
  }
 ],
 "metadata": {
  "kernelspec": {
   "display_name": "tft_env",
   "language": "python",
   "name": "python3"
  },
  "language_info": {
   "codemirror_mode": {
    "name": "ipython",
    "version": 3
   },
   "file_extension": ".py",
   "mimetype": "text/x-python",
   "name": "python",
   "nbconvert_exporter": "python",
   "pygments_lexer": "ipython3",
   "version": "3.10.18"
  }
 },
 "nbformat": 4,
 "nbformat_minor": 5
}
